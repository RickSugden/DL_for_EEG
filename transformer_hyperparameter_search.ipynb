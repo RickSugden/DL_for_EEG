{
 "cells": [
  {
   "cell_type": "markdown",
   "metadata": {},
   "source": [
    "# This notebook will run replicates of a model and perform a random search of hyperparameters"
   ]
  },
  {
   "cell_type": "markdown",
   "metadata": {},
   "source": [
    "### Imports"
   ]
  },
  {
   "cell_type": "code",
   "execution_count": 1,
   "metadata": {},
   "outputs": [],
   "source": [
    "import data_handling\n",
    "import training_and_validation\n",
    "import hyperparam_tuning"
   ]
  },
  {
   "cell_type": "code",
   "execution_count": 2,
   "metadata": {},
   "outputs": [],
   "source": [
    "#imports\n",
    "import importlib\n",
    "import glob\n",
    "\n",
    "# from models import PD_CNN, ResNet, ResidualBlock, PD_LSTM\n",
    "import torch\n",
    "import torch.nn as nn\n",
    "import training_and_validation\n",
    "from training_and_validation import loso_cross_validation, train, validate, cross_train, train_with_validation, train_and_test, trainTransformer\n",
    "from result_visualization import run_chi_squared_test, plot_confusion_matrix\n",
    "from torch.utils.data import DataLoader, random_split\n",
    "import data_handling\n",
    "import transformer_models\n",
    "import result_visualization\n",
    "import random\n",
    "import hyperparam_tuning\n",
    "import os\n",
    "from sys import platform"
   ]
  },
  {
   "cell_type": "markdown",
   "metadata": {},
   "source": [
    "### Find training data, make dataset"
   ]
  },
  {
   "cell_type": "code",
   "execution_count": 3,
   "metadata": {},
   "outputs": [
    {
     "data": {
      "text/plain": [
       "'cuda:0'"
      ]
     },
     "execution_count": 3,
     "metadata": {},
     "output_type": "execute_result"
    }
   ],
   "source": [
    "#set the device to cuda:0 \n",
    "if torch.cuda.is_available():  \n",
    "  device = \"cuda:0\" \n",
    "else:  \n",
    "  device = \"cpu\" \n",
    "device"
   ]
  },
  {
   "cell_type": "code",
   "execution_count": 17,
   "metadata": {},
   "outputs": [],
   "source": [
    "#please specify where you keep your training dataset\n",
    "training_data_src =  './Data/UNM/whole_dataset/'\n",
    "\n",
    "############ create list of subject numbers to leave out ###############################\n",
    "files = glob.glob(training_data_src + '*.csv')\n",
    "leave_one_out_list = []\n",
    "for file in files:  \n",
    "  if platform=='win32':\n",
    "    leave_one_out_list.append(file.split('\\\\')[-1])#.split('_')[1]) #remove hashtags to return to UNM dataset\n",
    "  elif platform=='linux' or platform=='linux2' or platform.startswith('darwin'):\n",
    "    leave_one_out_list.append(file.split('/')[-1])\n",
    "  else:\n",
    "    assert ValueError, 'operating system not identified'"
   ]
  },
  {
   "cell_type": "code",
   "execution_count": 18,
   "metadata": {},
   "outputs": [
    {
     "name": "stdout",
     "output_type": "stream",
     "text": [
      "making a TensorDataset\n"
     ]
    }
   ],
   "source": [
    "importlib.reload(data_handling)\n",
    "import data_handling\n",
    "#make training dataset\n",
    "if device == 'cuda:0':\n",
    "    print('making a TensorDataset')\n",
    "    training_dataset, dataset_tensor, label_tensor, subject_tensor = data_handling.make_data_into_tensor(data_path=training_data_src, device=device, chunk_size=512)\n",
    "else:\n",
    "    print('making a custom Dataset')\n",
    "    training_dataset = data_handling.EEGDataset(data_path=training_data_src, chunk_size=512)\n",
    "\n"
   ]
  },
  {
   "cell_type": "markdown",
   "metadata": {},
   "source": [
    "### Choose model and search space"
   ]
  },
  {
   "cell_type": "code",
   "execution_count": 16,
   "metadata": {},
   "outputs": [],
   "source": [
    "experiment_model = 'Transformer'\n",
    "experiment_name = experiment_model+'_first_real_search'\n",
    "training_target_dir = './training_results/'+experiment_model+'/'+experiment_name+'/'"
   ]
  },
  {
   "cell_type": "code",
   "execution_count": 15,
   "metadata": {},
   "outputs": [
    {
     "name": "stdout",
     "output_type": "stream",
     "text": [
      "-----------------running replicate # 1 -------------------------\n",
      "hyperparameter configuration:  {'batch_size': 22, 'epochs': 12, 'learning_rate': 2.933373788676148e-05, 'num_heads': 1, 'num_blocks': 5, 'seq_length': 512}\n",
      " model has been successfully created\n",
      "Current/Last Learning Rate: 2.933373788676148e-05\n",
      "Current/Last Learning Rate: 2.933373788676148e-05\n",
      "Current/Last Learning Rate: 2.933373788676148e-05\n",
      "Current/Last Learning Rate: 2.933373788676148e-05\n",
      "Current/Last Learning Rate: 2.933373788676148e-05\n",
      "Current/Last Learning Rate: 2.933373788676148e-05\n",
      "Current/Last Learning Rate: 2.933373788676148e-05\n",
      "Current/Last Learning Rate: 2.933373788676148e-05\n",
      "Current/Last Learning Rate: 2.933373788676148e-05\n",
      "Current/Last Learning Rate: 2.933373788676148e-05\n",
      "Current/Last Learning Rate: 2.933373788676148e-05\n",
      "Current/Last Learning Rate: 2.933373788676148e-05\n",
      "b\n",
      "c\n",
      "c\n",
      "d\n",
      "c\n",
      "b\n",
      "d\n",
      "c\n",
      "c\n",
      "c\n",
      "d\n",
      "b\n",
      "c\n",
      "c\n",
      "c\n",
      "c\n",
      "c\n",
      "b\n",
      "b\n",
      "c\n",
      "c\n",
      "b\n",
      "b\n",
      "c\n",
      "d\n",
      "b\n",
      "c\n",
      "b\n",
      "c\n",
      "d\n",
      "b\n",
      "c\n",
      "c\n",
      "c\n",
      "c\n",
      "c\n",
      "b\n",
      "b\n",
      "c\n",
      "c\n",
      "b\n",
      "c\n",
      "b\n",
      "d\n",
      "c\n",
      "b\n",
      "c\n",
      "c\n",
      "b\n",
      "c\n",
      "c\n",
      "c\n",
      "c\n",
      "d\n",
      "c\n",
      "d\n",
      "d\n",
      "c\n",
      "c\n",
      "c\n",
      "d\n",
      "c\n",
      "c\n",
      "c\n",
      "c\n",
      "c\n",
      "true positives:  0\n",
      "false positives:  16\n",
      "true negatives:  10\n",
      "false negatives 40\n",
      "Finished Training + Validation Session\n",
      "Time elapsed in miliseconds:  45519.62890625\n",
      "The training loss at the end of this session is:  0.4936208426952362\n",
      "./training_results/Transformer/Transformer_development_hyperparameters/\n"
     ]
    }
   ],
   "source": [
    "importlib.reload(hyperparam_tuning)\n",
    "import hyperparam_tuning\n",
    "importlib.reload(training_and_validation)\n",
    "# importlib.reload(transformer_models)\n",
    "# import transformer_models\n",
    "import training_and_validation\n",
    "# import hyperparam_tuning\n",
    "#run cross validation for N random configurations of hyperparameters\n",
    "hyperparam_tuning.perform_random_hyperparameter_search(training_dataset, leave_one_out_list, sample_size=60,\n",
    "                                                       learning_rate_min_max=(0.00001,0.001), batch_min_max=(2,32), epoch_min_max=(15,200)\n",
    "                                                       attention_blocks=(1,8), heads=(1,8), model_dim=training_dataset[0][0].shape[0], seq_length=training_dataset[0][0].shape[1],\n",
    "                                                       search_title=experiment_name, save_path=training_target_dir,\n",
    "                                                       model_type=experiment_model, device=device) #13 worked for one epoch"
   ]
  },
  {
   "cell_type": "code",
   "execution_count": null,
   "metadata": {},
   "outputs": [],
   "source": []
  }
 ],
 "metadata": {
  "kernelspec": {
   "display_name": "DL_EEG_venv",
   "language": "python",
   "name": "python3"
  },
  "language_info": {
   "codemirror_mode": {
    "name": "ipython",
    "version": 3
   },
   "file_extension": ".py",
   "mimetype": "text/x-python",
   "name": "python",
   "nbconvert_exporter": "python",
   "pygments_lexer": "ipython3",
   "version": "3.9.6"
  },
  "orig_nbformat": 4
 },
 "nbformat": 4,
 "nbformat_minor": 2
}
